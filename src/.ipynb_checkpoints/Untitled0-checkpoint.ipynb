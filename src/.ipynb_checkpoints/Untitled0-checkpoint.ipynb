{
 "metadata": {
  "name": "",
  "signature": "sha256:7233e79364b42359b034c154d34b63963ade281f83c640ee50e13f679300aca7"
 },
 "nbformat": 3,
 "nbformat_minor": 0,
 "worksheets": []
}